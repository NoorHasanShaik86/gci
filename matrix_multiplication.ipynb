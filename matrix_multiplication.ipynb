{
  "nbformat": 4,
  "nbformat_minor": 0,
  "metadata": {
    "colab": {
      "name": "matrix_multiplication.ipynb",
      "provenance": [],
      "include_colab_link": true
    },
    "kernelspec": {
      "name": "python3",
      "display_name": "Python 3"
    }
  },
  "cells": [
    {
      "cell_type": "markdown",
      "metadata": {
        "id": "view-in-github",
        "colab_type": "text"
      },
      "source": [
        "<a href=\"https://colab.research.google.com/github/NoorHasanShaik86/gci/blob/master/matrix_multiplication.ipynb\" target=\"_parent\"><img src=\"https://colab.research.google.com/assets/colab-badge.svg\" alt=\"Open In Colab\"/></a>"
      ]
    },
    {
      "cell_type": "code",
      "metadata": {
        "id": "y6NFYOAhUK80",
        "colab_type": "code",
        "outputId": "1e587a6a-7841-4f81-bbb7-ee9b4c281781",
        "colab": {
          "base_uri": "https://localhost:8080/",
          "height": 712
        }
      },
      "source": [
        "m=[]\n",
        "n=[]\n",
        "a= int(input('entetr the row  1:'))\n",
        "b= int(input('entetr the column 1:'))\n",
        "c= int(input('entetr the row 2:'))\n",
        "d= int(input('entetr the column 2:'))\n",
        "\t\t\t\n",
        "if b==c:\n",
        "\tfor i in range (a):\n",
        "\t\tl1=[]\n",
        "\t\tfor j in range(b):\n",
        "\t\t\tx=float(input('enter the elements matrix 1:'))\n",
        "\t\t\tl1.append(x)\n",
        "\t\tm.append(l1)\n",
        "\tfor i in range (c):\n",
        "\t\tl2=[]\n",
        "\t\tfor j in range(d):\n",
        "\t\t\ty=float(input('enter the elements matrix 2:'))\n",
        "\t\t\tl2.append(y)\n",
        "\t\tn.append(l2)\n",
        "else:\n",
        "\tprint(\"multiplication is not possible.\")\n",
        "for i in range(a):\n",
        "\tfor j in range(b):\n",
        "\t\tprint(m[i][j],end=\" \")\n",
        "\tprint()\n",
        "print (\"\\n\\n\")\n",
        "for i in range (c):\n",
        "\tfor j in range(d):\n",
        "\t\tprint(n[i][j],end=\" \")\n",
        "\tprint()\n",
        "q=[]\n",
        "for i in range (a):\n",
        "\tl1=[]\n",
        "\tfor j in range(d):\n",
        "\t\tx=0.0\n",
        "\t\tl1.append(x)\n",
        "\tq.append(l1)\n",
        "if b==c:\n",
        "\tfor i in range (len(m)):\n",
        "\t\tfor j in range (len(n[0])):\n",
        "\t\t\tfor k in range(len(n)):\n",
        "\t\t\t\tq[i][j] +=m[i][k]*n[k][j]\n",
        "print (\" \\n\\n\\n  Result:\\n\")\n",
        "for i in range (a):\n",
        "\tfor j in range (d):\n",
        "\t\tprint (q[i][j],end=\"  \")\n",
        "\tprint()"
      ],
      "execution_count": 0,
      "outputs": [
        {
          "output_type": "stream",
          "text": [
            "entetr the row  1:2\n",
            "entetr the column 1:3\n",
            "entetr the row 2:3\n",
            "entetr the column 2:5\n",
            "enter the elements matrix 1:1\n",
            "enter the elements matrix 1:2\n",
            "enter the elements matrix 1:3\n",
            "enter the elements matrix 1:4\n",
            "enter the elements matrix 1:5\n",
            "enter the elements matrix 1:6\n",
            "enter the elements matrix 2:7\n",
            "enter the elements matrix 2:8\n",
            "enter the elements matrix 2:9\n",
            "enter the elements matrix 2:10\n",
            "enter the elements matrix 2:11\n",
            "enter the elements matrix 2:12\n",
            "enter the elements matrix 2:13\n",
            "enter the elements matrix 2:14\n",
            "enter the elements matrix 2:15\n",
            "enter the elements matrix 2:16\n",
            "enter the elements matrix 2:17\n",
            "enter the elements matrix 2:18\n",
            "enter the elements matrix 2:19\n",
            "enter the elements matrix 2:20\n",
            "enter the elements matrix 2:21\n",
            "1.0 2.0 3.0 \n",
            "4.0 5.0 6.0 \n",
            "\n",
            "\n",
            "\n",
            "7.0 8.0 9.0 10.0 11.0 \n",
            "12.0 13.0 14.0 15.0 16.0 \n",
            "17.0 18.0 19.0 20.0 21.0 \n",
            " \n",
            "\n",
            "\n",
            "  Result:\n",
            "\n",
            "82.0  88.0  94.0  100.0  106.0  \n",
            "190.0  205.0  220.0  235.0  250.0  \n"
          ],
          "name": "stdout"
        }
      ]
    },
    {
      "cell_type": "code",
      "metadata": {
        "id": "zfqeNMkgi21d",
        "colab_type": "code",
        "outputId": "fa9131c4-dff9-4fa9-fb2a-67d6a17fda7e",
        "colab": {
          "base_uri": "https://localhost:8080/",
          "height": 312
        }
      },
      "source": [
        "import tensorflow as tf\n",
        "m=[]\n",
        "n=[]\n",
        "a= int(input('entetr the row  1:'))\n",
        "b= int(input('entetr the column 1:'))\n",
        "c= int(input('entetr the row 2:'))\n",
        "d= int(input('entetr the column 2:'))\n",
        "for i in range (a):\n",
        "\tl1=[]\n",
        "\tfor j in range(b):\n",
        "\t\tx=float(input('enter the elements matrix 1:'))\n",
        "\t\tl1.append(x)\n",
        "\tm.append(l1)\n",
        "for i in range (c):\n",
        "\tl2=[]\n",
        "\tfor j in range(d):\n",
        "\t\ty=float(input('enter the elements matrix 2:'))\n",
        "\t\tl2.append(y)\n",
        "\tn.append(l2)\n",
        "x = tf.constant(m, shape=[a, b])\n",
        "y = tf.constant(n, shape=[c, d])\n",
        "z = x @ y\n",
        "print(z)"
      ],
      "execution_count": 0,
      "outputs": [
        {
          "output_type": "stream",
          "text": [
            "entetr the row  1:2\n",
            "entetr the column 1:3\n",
            "entetr the row 2:3\n",
            "entetr the column 2:2\n",
            "enter the elements matrix 1:1\n",
            "enter the elements matrix 1:2\n",
            "enter the elements matrix 1:3\n",
            "enter the elements matrix 1:4\n",
            "enter the elements matrix 1:5\n",
            "enter the elements matrix 1:6\n",
            "enter the elements matrix 2:7\n",
            "enter the elements matrix 2:8\n",
            "enter the elements matrix 2:9\n",
            "enter the elements matrix 2:10\n",
            "enter the elements matrix 2:11\n",
            "enter the elements matrix 2:12\n",
            "Tensor(\"matmul_1:0\", shape=(2, 2), dtype=float32)\n"
          ],
          "name": "stdout"
        }
      ]
    }
  ]
}