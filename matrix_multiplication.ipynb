{
  "nbformat": 4,
  "nbformat_minor": 0,
  "metadata": {
    "colab": {
      "name": "matrix_multiplication.ipynb",
      "provenance": [],
      "include_colab_link": true
    },
    "kernelspec": {
      "name": "python3",
      "display_name": "Python 3"
    }
  },
  "cells": [
    {
      "cell_type": "markdown",
      "metadata": {
        "id": "view-in-github",
        "colab_type": "text"
      },
      "source": [
        "<a href=\"https://colab.research.google.com/github/NoorHasanShaik86/gci/blob/master/matrix_multiplication.ipynb\" target=\"_parent\"><img src=\"https://colab.research.google.com/assets/colab-badge.svg\" alt=\"Open In Colab\"/></a>"
      ]
    },
    {
      "cell_type": "code",
      "metadata": {
        "id": "zfqeNMkgi21d",
        "colab_type": "code",
        "outputId": "2fdc1e88-9d4f-4dcf-9f08-052fee11c22c",
        "colab": {
          "base_uri": "https://localhost:8080/",
          "height": 121
        }
      },
      "source": [
        "%tensorflow_version 2.x\n",
        "import tensorflow as tf\n",
        "\n",
        "print(tf.__version__)\n",
        "\n",
        "\n",
        "x = tf.random.uniform(shape=[2,3], minval=0, maxval=None, dtype=tf.dtypes.float32, seed=None, name=None)\n",
        "y = tf.random.uniform(shape=[3,5], minval=0, maxval=None, dtype=tf.dtypes.float32, seed=None, name=None)\n",
        "z = tf.matmul(x,y)\n",
        "print(\"\\n THe result is :\\n\")\n",
        "print(z.numpy())"
      ],
      "execution_count": 9,
      "outputs": [
        {
          "output_type": "stream",
          "text": [
            "2.0.0\n",
            "\n",
            " THe result is :\n",
            "\n",
            "[[0.9316876  0.43451342 0.6940432  0.30435383 0.7052006 ]\n",
            " [0.56363666 0.43041486 0.38983977 0.17878671 0.49138728]]\n"
          ],
          "name": "stdout"
        }
      ]
    }
  ]
}