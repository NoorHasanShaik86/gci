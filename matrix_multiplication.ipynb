{
  "nbformat": 4,
  "nbformat_minor": 0,
  "metadata": {
    "colab": {
      "name": "matrix_multiplication.ipynb",
      "provenance": [],
      "include_colab_link": true
    },
    "kernelspec": {
      "name": "python3",
      "display_name": "Python 3"
    }
  },
  "cells": [
    {
      "cell_type": "markdown",
      "metadata": {
        "id": "view-in-github",
        "colab_type": "text"
      },
      "source": [
        "<a href=\"https://colab.research.google.com/github/NoorHasanShaik86/gci/blob/master/matrix_multiplication.ipynb\" target=\"_parent\"><img src=\"https://colab.research.google.com/assets/colab-badge.svg\" alt=\"Open In Colab\"/></a>"
      ]
    },
    {
      "cell_type": "code",
      "metadata": {
        "id": "zfqeNMkgi21d",
        "colab_type": "code",
        "outputId": "eb091fc7-9723-4b3c-898c-8795e87e5138",
        "colab": {
          "base_uri": "https://localhost:8080/",
          "height": 469
        }
      },
      "source": [
        "import tensorflow as tf\n",
        "m=[]\n",
        "n=[]\n",
        "a= int(input('entetr the row  1:'))\n",
        "b= int(input('entetr the column 1:'))\n",
        "c= int(input('entetr the row 2:'))\n",
        "d= int(input('entetr the column 2:'))\n",
        "for i in range (a):\n",
        "\tl1=[]\n",
        "\tfor j in range(b):\n",
        "\t\tx=float(input('enter the elements matrix 1:'))\n",
        "\t\tl1.append(x)\n",
        "\tm.append(l1)\n",
        "for i in range (c):\n",
        "\tl2=[]\n",
        "\tfor j in range(d):\n",
        "\t\ty=float(input('enter the elements matrix 2:'))\n",
        "\t\tl2.append(y)\n",
        "\tn.append(l2)\n",
        "x = tf.constant(m, shape=[a, b])\n",
        "y = tf.constant(n, shape=[c, d])\n",
        "z = tf.matmul(x,y)\n",
        "tf.print(z)"
      ],
      "execution_count": 20,
      "outputs": [
        {
          "output_type": "stream",
          "text": [
            "entetr the row  1:2\n",
            "entetr the column 1:3\n",
            "entetr the row 2:3\n",
            "entetr the column 2:5\n",
            "enter the elements matrix 1:1\n",
            "enter the elements matrix 1:2\n",
            "enter the elements matrix 1:3\n",
            "enter the elements matrix 1:4\n",
            "enter the elements matrix 1:5\n",
            "enter the elements matrix 1:6\n",
            "enter the elements matrix 2:7\n",
            "enter the elements matrix 2:8\n",
            "enter the elements matrix 2:9\n",
            "enter the elements matrix 2:10\n",
            "enter the elements matrix 2:11\n",
            "enter the elements matrix 2:12\n",
            "enter the elements matrix 2:13\n",
            "enter the elements matrix 2:14\n",
            "enter the elements matrix 2:15\n",
            "enter the elements matrix 2:16\n",
            "enter the elements matrix 2:17\n",
            "enter the elements matrix 2:18\n",
            "enter the elements matrix 2:19\n",
            "enter the elements matrix 2:20\n",
            "enter the elements matrix 2:21\n"
          ],
          "name": "stdout"
        },
        {
          "output_type": "execute_result",
          "data": {
            "text/plain": [
              "[[ 82.  88.  94. 100. 106.]"
               " [190. 205. 220. 235. 250.]], shape=(2, 5), dtype=float32)"
            
            ]
          },
          "metadata": {
            "tags": []
          },
          "execution_count": 20
        }
      ]
    }
  ]
}
