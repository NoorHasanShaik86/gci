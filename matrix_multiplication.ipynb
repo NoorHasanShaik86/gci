{
  "nbformat": 4,
  "nbformat_minor": 0,
  "metadata": {
    "colab": {
      "name": "matrix_multiplication.ipynb",
      "provenance": [],
      "include_colab_link": true
    },
    "kernelspec": {
      "name": "python3",
      "display_name": "Python 3"
    }
  },
  "cells": [
    {
      "cell_type": "markdown",
      "metadata": {
        "id": "view-in-github",
        "colab_type": "text"
      },
      "source": [
        "<a href=\"https://colab.research.google.com/github/NoorHasanShaik86/gci/blob/master/matrix_multiplication.ipynb\" target=\"_parent\"><img src=\"https://colab.research.google.com/assets/colab-badge.svg\" alt=\"Open In Colab\"/></a>"
      ]
    },
    {
      "cell_type": "code",
      "metadata": {
        "id": "zfqeNMkgi21d",
        "colab_type": "code",
        "outputId": "0f9e258c-04b1-4c38-8080-49adcf271730",
        "colab": {
          "base_uri": "https://localhost:8080/",
          "height": 151
        }
      },
      "source": [
        "import tensorflow as tf\n",
        "sess = tf.InteractiveSession()\n",
        "\n",
        "x = tf.random_normal(shape=[2,3], mean=0.0, stddev=1.0, dtype=tf.float32, seed=None, name=None)\n",
        "y = tf.random_normal(shape=[3,5], mean=0.0, stddev=1.0, dtype=tf.float32, seed=None, name=None)\n",
        "z = tf.matmul(x,y)\n",
        "print(\"\\n THe result is :\\n\")\n",
        "print(z.eval())"
      ],
      "execution_count": 1,
      "outputs": [
        {
          "output_type": "display_data",
          "data": {
            "text/html": [
              "<p style=\"color: red;\">\n",
              "The default version of TensorFlow in Colab will soon switch to TensorFlow 2.x.<br>\n",
              "We recommend you <a href=\"https://www.tensorflow.org/guide/migrate\" target=\"_blank\">upgrade</a> now \n",
              "or ensure your notebook will continue to use TensorFlow 1.x via the <code>%tensorflow_version 1.x</code> magic:\n",
              "<a href=\"https://colab.research.google.com/notebooks/tensorflow_version.ipynb\" target=\"_blank\">more info</a>.</p>\n"
            ],
            "text/plain": [
              "<IPython.core.display.HTML object>"
            ]
          },
          "metadata": {
            "tags": []
          }
        },
        {
          "output_type": "stream",
          "text": [
            "\n",
            " THe result is :\n",
            "\n",
            "[[-0.15500863  0.74561036  0.49119812  2.0800598  -0.10793126]\n",
            " [ 0.21981107  2.1322885   1.1040672   1.2545723   4.0279922 ]]\n"
          ],
          "name": "stdout"
        }
      ]
    }
  ]
}